{
 "cells": [
  {
   "cell_type": "markdown",
   "id": "da5b34b8",
   "metadata": {},
   "source": [
    "### Tm Class Pipeline Documentation"
   ]
  },
  {
   "cell_type": "markdown",
   "id": "b21898f9",
   "metadata": {},
   "source": [
    "**Step 1**: Get Tm Predictions (First pass is with TemBERTure predictions)\n",
    "\n",
    "**Step 2**: Get Pairwise Differences, currently use tm2pairwise.py\n",
    "    - Requires four columns: ID (Accession), Tm (true_tm),\tPredicted Melting Point (pred_tm), Sequence\n",
    "    - Get y_true and y_pred, being melting temperatures\n",
    "\n",
    "**Step 3**: Get the estimation matrix, which comprises of accession, true_tm, pred_tm, estimation (using estimation_matrix.py)\n",
    "    - Input pairwise differences, get over/under estimation classification\n",
    "\n",
    "**Step 4**: Do entropy analysis using the over/under classifications, using entropy_analysis.py\n",
    "    - Gets the longest consecutive bins with over 0.8 entropy\n",
    "    - H = -p₁ × log₂(p₁) - p₂ × log₂(p₂)\n",
    "        - Where p₁ is proportion of over-estimates, and p₂ is the proportion of under-estimates\n",
    "\n",
    "**Future**: Need to iterate other ways to the classification\n",
    "\n",
    "**Vocabulary**:\n",
    "1. Tm: Melting Temperature\n",
    "2. "
   ]
  }
 ],
 "metadata": {
  "language_info": {
   "name": "python"
  }
 },
 "nbformat": 4,
 "nbformat_minor": 5
}
