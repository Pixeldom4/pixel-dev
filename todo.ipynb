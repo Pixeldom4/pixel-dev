{
 "cells": [
  {
   "cell_type": "markdown",
   "id": "3b93d68d",
   "metadata": {},
   "source": [
    "    ## Project To-Do List\n",
    "\n",
    "    - [x] Task 1: Complete data cleaning script.\n",
    "    - [ ] Task 2: Analyze initial dataset.\n",
    "    - [ ] Task 3: Visualize key findings.\n",
    "    - [X] ~~*Task 4: Write report section on methodology.*~~ [2025-07-10]"
   ]
  },
  {
   "cell_type": "code",
   "execution_count": 3,
   "id": "2e438ebd",
   "metadata": {},
   "outputs": [
    {
     "name": "stdout",
     "output_type": "stream",
     "text": [
      "Added: Prepare presentation slides\n",
      "Added: Review code for errors\n",
      "0. [ ] Prepare presentation slides\n",
      "1. [ ] Review code for errors\n",
      "Marked task 0 as complete.\n",
      "0. [x] Prepare presentation slides\n",
      "1. [ ] Review code for errors\n"
     ]
    }
   ],
   "source": [
    "    todo_list = []\n",
    "\n",
    "    def add_task(task):\n",
    "        todo_list.append({\"task\": task, \"completed\": False})\n",
    "        print(f\"Added: {task}\")\n",
    "\n",
    "    def mark_completed(index):\n",
    "        if 0 <= index < len(todo_list):\n",
    "            todo_list[index][\"completed\"] = True\n",
    "            print(f\"Marked task {index} as complete.\")\n",
    "        else:\n",
    "            print(\"Invalid task index.\")\n",
    "\n",
    "    def view_tasks():\n",
    "        if not todo_list:\n",
    "            print(\"No tasks in the list.\")\n",
    "            return\n",
    "        for i, item in enumerate(todo_list):\n",
    "            status = \"[x]\" if item[\"completed\"] else \"[ ]\"\n",
    "            print(f\"{i}. {status} {item['task']}\")\n",
    "\n",
    "    # Example usage:\n",
    "    add_task(\"Prepare presentation slides\")\n",
    "    add_task(\"Review code for errors\")\n",
    "    view_tasks()\n",
    "    mark_completed(0)\n",
    "    view_tasks()"
   ]
  },
  {
   "cell_type": "code",
   "execution_count": null,
   "metadata": {},
   "outputs": [],
   "source": []
  }
 ],
 "metadata": {
  "kernelspec": {
   "display_name": "pixelenv",
   "language": "python",
   "name": "python3"
  },
  "language_info": {
   "codemirror_mode": {
    "name": "ipython",
    "version": 3
   },
   "file_extension": ".py",
   "mimetype": "text/x-python",
   "name": "python",
   "nbconvert_exporter": "python",
   "pygments_lexer": "ipython3",
   "version": "3.13.5"
  }
 },
 "nbformat": 4,
 "nbformat_minor": 5
}
